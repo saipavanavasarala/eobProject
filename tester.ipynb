{
 "cells": [
  {
   "cell_type": "code",
   "execution_count": null,
   "metadata": {},
   "outputs": [],
   "source": [
    "from bcbs import BcbsEngine\n",
    "from PyPDF2 import PdfReader\n",
    "\n",
    "reader = PdfReader(r\"pdfs/3233730791_02.15.24_$1423.23  -kusuma -working - 124 pages.pdf\")\n",
    "engine =  BcbsEngine()\n",
    "data = engine.run(reader,\"pdfs/3233730791_02.15.24_$1423.23  -kusuma -working - 124 pages.pdf\")"
   ]
  },
  {
   "cell_type": "code",
   "execution_count": 3,
   "metadata": {},
   "outputs": [
    {
     "data": {
      "text/plain": [
       "0"
      ]
     },
     "execution_count": 3,
     "metadata": {},
     "output_type": "execute_result"
    }
   ],
   "source": [
    "data.seek(0)"
   ]
  },
  {
   "cell_type": "code",
   "execution_count": 7,
   "metadata": {},
   "outputs": [
    {
     "ename": "IndexError",
     "evalue": "list index out of range",
     "output_type": "error",
     "traceback": [
      "\u001b[1;31m---------------------------------------------------------------------------\u001b[0m",
      "\u001b[1;31mIndexError\u001b[0m                                Traceback (most recent call last)",
      "Cell \u001b[1;32mIn [7], line 7\u001b[0m\n\u001b[0;32m      4\u001b[0m reader \u001b[38;5;241m=\u001b[39m PdfReader(\u001b[38;5;124mr\u001b[39m\u001b[38;5;124m\"\u001b[39m\u001b[38;5;124mD:\u001b[39m\u001b[38;5;130;01m\\\\\u001b[39;00m\u001b[38;5;124mgitOcr\u001b[39m\u001b[38;5;130;01m\\\\\u001b[39;00m\u001b[38;5;124mpdfs\u001b[39m\u001b[38;5;130;01m\\\\\u001b[39;00m\u001b[38;5;124moptum.pdf\u001b[39m\u001b[38;5;124m\"\u001b[39m)\n\u001b[0;32m      5\u001b[0m engine \u001b[38;5;241m=\u001b[39m WellPointEOBEngine()\n\u001b[1;32m----> 7\u001b[0m data \u001b[38;5;241m=\u001b[39m \u001b[43mengine\u001b[49m\u001b[38;5;241;43m.\u001b[39;49m\u001b[43mrun\u001b[49m\u001b[43m(\u001b[49m\u001b[43mreader\u001b[49m\u001b[43m,\u001b[49m\u001b[38;5;124;43mr\u001b[39;49m\u001b[38;5;124;43m\"\u001b[39;49m\u001b[38;5;124;43mD:\u001b[39;49m\u001b[38;5;130;43;01m\\\\\u001b[39;49;00m\u001b[38;5;124;43mgitOcr\u001b[39;49m\u001b[38;5;130;43;01m\\\\\u001b[39;49;00m\u001b[38;5;124;43mpdfs\u001b[39;49m\u001b[38;5;130;43;01m\\\\\u001b[39;49;00m\u001b[38;5;124;43mCheck#216033005779469_02.29.2024_$84,226.32.pdf\u001b[39;49m\u001b[38;5;124;43m\"\u001b[39;49m\u001b[43m)\u001b[49m\n",
      "File \u001b[1;32md:\\gitOcr\\wellpoint\\wellPointEOBEngine.py:143\u001b[0m, in \u001b[0;36mWellPointEOBEngine.run\u001b[1;34m(self, reader, pdfPath)\u001b[0m\n\u001b[0;32m    142\u001b[0m \u001b[38;5;28;01mdef\u001b[39;00m \u001b[38;5;21mrun\u001b[39m(\u001b[38;5;28mself\u001b[39m,reader,pdfPath):\n\u001b[1;32m--> 143\u001b[0m     data \u001b[38;5;241m=\u001b[39m \u001b[43mextract_text_all_pages\u001b[49m\u001b[43m(\u001b[49m\u001b[43mreader\u001b[49m\u001b[43m)\u001b[49m\n\u001b[0;32m    144\u001b[0m     zip_buffer \u001b[38;5;241m=\u001b[39m BytesIO()\n\u001b[0;32m    145\u001b[0m     \u001b[38;5;28;01mwith\u001b[39;00m zipfile\u001b[38;5;241m.\u001b[39mZipFile(zip_buffer, \u001b[38;5;124m'\u001b[39m\u001b[38;5;124mw\u001b[39m\u001b[38;5;124m'\u001b[39m, zipfile\u001b[38;5;241m.\u001b[39mZIP_DEFLATED) \u001b[38;5;28;01mas\u001b[39;00m zip_file:\n",
      "File \u001b[1;32md:\\gitOcr\\wellpoint\\wellPointEOBEngine.py:97\u001b[0m, in \u001b[0;36mextract_text_all_pages\u001b[1;34m(reader)\u001b[0m\n\u001b[0;32m     95\u001b[0m \u001b[38;5;66;03m# Find all occurrences\u001b[39;00m\n\u001b[0;32m     96\u001b[0m table_data \u001b[38;5;241m=\u001b[39m pattern\u001b[38;5;241m.\u001b[39mfindall(cleaned_text)\n\u001b[1;32m---> 97\u001b[0m table_data\u001b[38;5;241m.\u001b[39minsert(\u001b[38;5;241m0\u001b[39m,\u001b[43mfirst_row_data\u001b[49m\u001b[43m[\u001b[49m\u001b[38;5;241;43m0\u001b[39;49m\u001b[43m]\u001b[49m)\n\u001b[0;32m     99\u001b[0m keys\u001b[38;5;241m=\u001b[39m[\u001b[38;5;124m'\u001b[39m\u001b[38;5;124mPATIENT NAME\u001b[39m\u001b[38;5;124m'\u001b[39m,\u001b[38;5;124m'\u001b[39m\u001b[38;5;124mMEMBER ID\u001b[39m\u001b[38;5;124m'\u001b[39m,\u001b[38;5;124m'\u001b[39m\u001b[38;5;124mSTATE/ALT ID\u001b[39m\u001b[38;5;124m'\u001b[39m,\u001b[38;5;124m'\u001b[39m\u001b[38;5;124mPATIENT ACCOUNT\u001b[39m\u001b[38;5;124m'\u001b[39m,\u001b[38;5;124m'\u001b[39m\u001b[38;5;124mCLAIM NUMBER\u001b[39m\u001b[38;5;124m'\u001b[39m,\u001b[38;5;124m'\u001b[39m\u001b[38;5;124mRECEIVED DATE\u001b[39m\u001b[38;5;124m'\u001b[39m,\u001b[38;5;124m'\u001b[39m\u001b[38;5;124mFOR ENQUIRES CALL\u001b[39m\u001b[38;5;124m'\u001b[39m]\n\u001b[0;32m    101\u001b[0m \u001b[38;5;28;01mfor\u001b[39;00m i \u001b[38;5;129;01min\u001b[39;00m \u001b[38;5;28mrange\u001b[39m(\u001b[38;5;28mlen\u001b[39m(table_data)):\n",
      "\u001b[1;31mIndexError\u001b[0m: list index out of range"
     ]
    }
   ],
   "source": [
    "from wellpoint import WellPointEOBEngine\n",
    "from PyPDF2 import PdfReader\n",
    "\n",
    "reader = PdfReader(r\"D:\\\\gitOcr\\\\pdfs\\\\optum.pdf\")\n",
    "engine = WellPointEOBEngine()\n",
    "\n",
    "data = engine.run(reader,r\"D:\\\\gitOcr\\\\pdfs\\\\Check#216033005779469_02.29.2024_$84,226.32.pdf\")"
   ]
  },
  {
   "cell_type": "code",
   "execution_count": 2,
   "metadata": {},
   "outputs": [],
   "source": [
    "from pypdf import PdfReader\n",
    "\n",
    "reader = PdfReader(\"D:\\gitOcr\\pdfs\\optum.pdf\")\n",
    "number_of_pages = len(reader.pages)\n",
    "page = reader.pages[0]\n",
    "text = page.extract_text()"
   ]
  },
  {
   "cell_type": "code",
   "execution_count": null,
   "metadata": {},
   "outputs": [],
   "source": [
    "print(text)"
   ]
  },
  {
   "cell_type": "code",
   "execution_count": null,
   "metadata": {},
   "outputs": [],
   "source": [
    "import fitz  # PyMuPDF\n",
    "\n",
    "def extract_text_with_layout(pdf_path):\n",
    "    doc = fitz.open(pdf_path)\n",
    "    text = \"\"\n",
    "    for page_num in range(len(doc)):\n",
    "        page = doc.load_page(page_num)\n",
    "        text += page.get_text(\"text\")\n",
    "        break\n",
    "    return text\n",
    "\n",
    "pdf_path = \"D:\\gitOcr\\pdfs\\optum.pdf\"\n",
    "extracted_text = extract_text_with_layout(pdf_path)\n",
    "print(extracted_text)\n"
   ]
  },
  {
   "cell_type": "code",
   "execution_count": 3,
   "metadata": {},
   "outputs": [
    {
     "name": "stdout",
     "output_type": "stream",
     "text": [
      "                                                                                                             \n",
      "                                                                                                             \n",
      "                                                                                           Cap Month: June 2024\n",
      "                                                                               CAPITATION CLAIM EOP DETAIL   \n",
      "                                                                                                             \n",
      "                                                                                                             \n",
      "                                                                                                             \n",
      "                 Specialty: RADIOLOGY                                                                        \n",
      "                                                                                                             \n",
      "                 Vendor Name: CROWN VALLEY RADIOLOGISTS INC (912152025), CROW-7                              \n",
      "                 COMMERCIAL                             Provider #: RDF1012 Provider: CROWN VALLEY IMAGING LLC\n",
      "      Member     Claim/Line #      Prov Claim ID   POS    DOS   Diag Service Mod Qty  RVU Total RVU CoPay    \n",
      "      Member ID  Prov Claim ID                                  Code  Code                                   \n",
      "      ALBITAR,   20240503920089100085 - 1 I117862   11  04/30/2024 Z01.810 75571 1.0  3.07  3.07  25.00      \n",
      "      PLANINKA                                                                                               \n",
      "      (U5777553001)                                                                                          \n",
      "      ALBRECHT, KELLIE 20240424920089100202 - 1 I116946 11 04/18/2024 M51.36 72158 1.0 9.85 9.85  100.00     \n",
      "      (R00397956FS1)                                                                                         \n",
      "                 20240424920089100202 - 2 I116946   11  04/18/2024 M51.36 72156  1.0  9.87  9.87  0.00       \n",
      "                 20240424920089100202 - 3 I116946   11  04/18/2024 M51.36 A9585  75.0 0.09  7.00  0.00       \n",
      "      ALEX THOMAS, 20240502920089100158 - 1 I117762 11  04/22/2024 M79.672 73630 LT 1.0 1.03 1.03 0.00       \n",
      "      TITTO                                                                                                  \n",
      "      (082W1695110)                                                                                          \n",
      "      ALI, AYESHA 20240422920089100247 - 1 I116577  11  04/15/2024 M20.12 73630 LT 1.0 1.03 1.03  0.00       \n",
      "      (200A6825340)                                                                                          \n",
      "      BARKER, LORI 20240502920089100164 - 1 I117766 11  04/29/2024 E78.5 93880   1.0  5.70  5.70  0.00       \n",
      "      (R04163836FM1)                                                                                         \n",
      "      BARNES, KRISTEN 20240419920089100176 - 1 I116490 11 04/14/2024 K83.8 74181 1.0  6.04  6.04  25.00      \n",
      "      (909310550001)                                                                                         \n",
      "      BELTIER, KELLY 20240415920089100241 - 1 I115818 11 04/05/2024 S83.241 73721 RT 1.0 6.25 6.25 0.00      \n",
      "      (266A2421740)                                              A                                           \n",
      "      BROWN, DANNY 20240417920089100246 - 1 I115998 11  04/09/2024 R59.0 70492   1.0  6.80  6.80  250.00     \n",
      "      (U2761205202)                                                                                          \n",
      "                 20240417920089100246 - 2 I115998   11  04/09/2024 R59.0 Q9967   100.0 0.00 0.01  0.00       \n",
      "      BURKE, KELLY 20240425920089100274 - 1 I117143 11  04/22/2024 M50.322 70486 1.0  3.94  3.94  0.00       \n",
      "      (013324901)                                                                                            \n",
      "      BUSH, CLARA 20240425920089100275 - 1 I117144  11  04/20/2024 R90.82 70551  1.0  6.05  6.05  100.00     \n",
      "      (951W1920320)                                                                                          \n",
      "      CAVANAUGH, 20240410920089100173 - 1 I115465   11  04/02/2024 M43.16 72110  1.0  1.56  1.56  0.00       \n",
      "      MICHAEL                                                                                                \n",
      "      (798W1102730)                                                                                          \n",
      "      CHO, CHONGHWA 20240524920089100300 - 1 I119628 11 04/26/2024 D35.2 70551   1.0  6.05  6.05  100.00     \n",
      "      (010A7244840)                                                                                          \n",
      "      CONTRERAS, 20240422920089100254 - 1 I116644   11  04/18/2024 M41.84 72070  1.0  0.99  0.99  0.00       \n",
      "      MARIA                                                                                                  \n",
      "                 20240422920089100254 - 2 I116644   11  04/18/2024 M41.84 72100  1.0  1.20  1.20  0.00       \n",
      "      (R04397799FD1)                                                                                         \n",
      "      CRUSE, DAVID 20240417920089100249 - 1 I116014 11  04/09/2024 M51.36 72131  1.0  3.97  3.97  100.00     \n",
      "      (290W0924330)                                                                                          \n",
      "                 20240417920089100249 - 2 I116014   11  04/09/2024 M51.36 72125  1.0  4.00  4.00  0.00       \n",
      "     Optum Care Network-Monarch                                                                Page 1 of 28  \n",
      "     Explanation of Payment                                                                    Jun 20, 2024  \n"
     ]
    }
   ],
   "source": [
    "import pdfplumber\n",
    "\n",
    "def extract_text_with_layout(pdf_path):\n",
    "    with pdfplumber.open(pdf_path) as pdf:\n",
    "        text = \"\"\n",
    "        for page in pdf.pages:\n",
    "            text += page.extract_text(layout=True)  # Use layout=True to maintain spacing\n",
    "            break\n",
    "    return text\n",
    "\n",
    "pdf_path = \"D:\\gitOcr\\pdfs\\optum.pdf\"\n",
    "extracted_text = extract_text_with_layout(pdf_path)\n",
    "print(extracted_text)\n"
   ]
  },
  {
   "cell_type": "code",
   "execution_count": null,
   "metadata": {},
   "outputs": [],
   "source": [
    "extracted_text = extracted_text.replace(\" - \",\"-\")\n",
    "print(extracted_text)"
   ]
  },
  {
   "cell_type": "code",
   "execution_count": 3,
   "metadata": {},
   "outputs": [
    {
     "ename": "DeprecationError",
     "evalue": "extractText is deprecated and was removed in pypdf 3.0.0. Use extract_text instead.",
     "output_type": "error",
     "traceback": [
      "\u001b[1;31m---------------------------------------------------------------------------\u001b[0m",
      "\u001b[1;31mDeprecationError\u001b[0m                          Traceback (most recent call last)",
      "Cell \u001b[1;32mIn [3], line 3\u001b[0m\n\u001b[0;32m      1\u001b[0m \u001b[38;5;28;01mfrom\u001b[39;00m \u001b[38;5;21;01moptumExtractpdf\u001b[39;00m \u001b[38;5;28;01mimport\u001b[39;00m getTabDetails\n\u001b[1;32m----> 3\u001b[0m data \u001b[38;5;241m=\u001b[39m \u001b[43mgetTabDetails\u001b[49m\u001b[43m(\u001b[49m\u001b[43mreader\u001b[49m\u001b[43m)\u001b[49m\n",
      "File \u001b[1;32md:\\gitOcr\\optumExtractpdf.py:25\u001b[0m, in \u001b[0;36mgetTabDetails\u001b[1;34m(pdfread)\u001b[0m\n\u001b[0;32m     23\u001b[0m \u001b[38;5;28;01mfor\u001b[39;00m i \u001b[38;5;129;01min\u001b[39;00m \u001b[38;5;28mrange\u001b[39m(NumOfPages):\n\u001b[0;32m     24\u001b[0m    pageinfo\u001b[38;5;241m=\u001b[39m pdfread\u001b[38;5;241m.\u001b[39mpages[i]  \u001b[38;5;66;03m#pdfread.getPage(i)\u001b[39;00m\n\u001b[1;32m---> 25\u001b[0m    text\u001b[38;5;241m=\u001b[39m\u001b[43mpageinfo\u001b[49m\u001b[38;5;241;43m.\u001b[39;49m\u001b[43mextractText\u001b[49m\u001b[43m(\u001b[49m\u001b[43m)\u001b[49m\n\u001b[0;32m     26\u001b[0m    start_pattern\u001b[38;5;241m=\u001b[39m\u001b[38;5;124m'\u001b[39m\u001b[38;5;124mCap Month:\u001b[39m\u001b[38;5;124m'\u001b[39m\n\u001b[0;32m     27\u001b[0m    end_pattern\u001b[38;5;241m=\u001b[39m\u001b[38;5;124m'\u001b[39m\u001b[38;5;124mTotal RVU\u001b[39m\u001b[38;5;130;01m\\n\u001b[39;00m\u001b[38;5;130;01m\\n\u001b[39;00m\u001b[38;5;124mCoPay\u001b[39m\u001b[38;5;124m'\u001b[39m\n",
      "File \u001b[1;32mc:\\Python311\\Lib\\site-packages\\pypdf\\_page.py:2335\u001b[0m, in \u001b[0;36mPageObject.extractText\u001b[1;34m(self, Tj_sep, TJ_sep)\u001b[0m\n\u001b[0;32m   2329\u001b[0m \u001b[38;5;28;01mdef\u001b[39;00m \u001b[38;5;21mextractText\u001b[39m(\u001b[38;5;28mself\u001b[39m, Tj_sep: \u001b[38;5;28mstr\u001b[39m \u001b[38;5;241m=\u001b[39m \u001b[38;5;124m\"\u001b[39m\u001b[38;5;124m\"\u001b[39m, TJ_sep: \u001b[38;5;28mstr\u001b[39m \u001b[38;5;241m=\u001b[39m \u001b[38;5;124m\"\u001b[39m\u001b[38;5;124m\"\u001b[39m) \u001b[38;5;241m-\u001b[39m\u001b[38;5;241m>\u001b[39m \u001b[38;5;28mstr\u001b[39m:  \u001b[38;5;66;03m# deprecated\u001b[39;00m\n\u001b[0;32m   2330\u001b[0m     \u001b[38;5;124;03m\"\"\"\u001b[39;00m\n\u001b[0;32m   2331\u001b[0m \u001b[38;5;124;03m    Use :meth:`extract_text` instead.\u001b[39;00m\n\u001b[0;32m   2332\u001b[0m \n\u001b[0;32m   2333\u001b[0m \u001b[38;5;124;03m    .. deprecated:: 1.28.0\u001b[39;00m\n\u001b[0;32m   2334\u001b[0m \u001b[38;5;124;03m    \"\"\"\u001b[39;00m\n\u001b[1;32m-> 2335\u001b[0m     \u001b[43mdeprecation_with_replacement\u001b[49m\u001b[43m(\u001b[49m\u001b[38;5;124;43m\"\u001b[39;49m\u001b[38;5;124;43mextractText\u001b[39;49m\u001b[38;5;124;43m\"\u001b[39;49m\u001b[43m,\u001b[49m\u001b[43m \u001b[49m\u001b[38;5;124;43m\"\u001b[39;49m\u001b[38;5;124;43mextract_text\u001b[39;49m\u001b[38;5;124;43m\"\u001b[39;49m\u001b[43m,\u001b[49m\u001b[43m \u001b[49m\u001b[38;5;124;43m\"\u001b[39;49m\u001b[38;5;124;43m3.0.0\u001b[39;49m\u001b[38;5;124;43m\"\u001b[39;49m\u001b[43m)\u001b[49m\n\u001b[0;32m   2336\u001b[0m     \u001b[38;5;28;01mreturn\u001b[39;00m \u001b[38;5;28mself\u001b[39m\u001b[38;5;241m.\u001b[39mextract_text()\n",
      "File \u001b[1;32mc:\\Python311\\Lib\\site-packages\\pypdf\\_utils.py:423\u001b[0m, in \u001b[0;36mdeprecation_with_replacement\u001b[1;34m(old_name, new_name, removed_in)\u001b[0m\n\u001b[0;32m    419\u001b[0m \u001b[38;5;28;01mdef\u001b[39;00m \u001b[38;5;21mdeprecation_with_replacement\u001b[39m(\n\u001b[0;32m    420\u001b[0m     old_name: \u001b[38;5;28mstr\u001b[39m, new_name: \u001b[38;5;28mstr\u001b[39m, removed_in: \u001b[38;5;28mstr\u001b[39m \u001b[38;5;241m=\u001b[39m \u001b[38;5;124m\"\u001b[39m\u001b[38;5;124m3.0.0\u001b[39m\u001b[38;5;124m\"\u001b[39m\n\u001b[0;32m    421\u001b[0m ) \u001b[38;5;241m-\u001b[39m\u001b[38;5;241m>\u001b[39m \u001b[38;5;28;01mNone\u001b[39;00m:\n\u001b[0;32m    422\u001b[0m     \u001b[38;5;124;03m\"\"\"Raise an exception that a feature was already removed, but has a replacement.\"\"\"\u001b[39;00m\n\u001b[1;32m--> 423\u001b[0m     \u001b[43mdeprecation\u001b[49m\u001b[43m(\u001b[49m\u001b[43mDEPR_MSG_HAPPENED\u001b[49m\u001b[38;5;241;43m.\u001b[39;49m\u001b[43mformat\u001b[49m\u001b[43m(\u001b[49m\u001b[43mold_name\u001b[49m\u001b[43m,\u001b[49m\u001b[43m \u001b[49m\u001b[43mremoved_in\u001b[49m\u001b[43m,\u001b[49m\u001b[43m \u001b[49m\u001b[43mnew_name\u001b[49m\u001b[43m)\u001b[49m\u001b[43m)\u001b[49m\n",
      "File \u001b[1;32mc:\\Python311\\Lib\\site-packages\\pypdf\\_utils.py:409\u001b[0m, in \u001b[0;36mdeprecation\u001b[1;34m(msg)\u001b[0m\n\u001b[0;32m    408\u001b[0m \u001b[38;5;28;01mdef\u001b[39;00m \u001b[38;5;21mdeprecation\u001b[39m(msg: \u001b[38;5;28mstr\u001b[39m) \u001b[38;5;241m-\u001b[39m\u001b[38;5;241m>\u001b[39m \u001b[38;5;28;01mNone\u001b[39;00m:\n\u001b[1;32m--> 409\u001b[0m     \u001b[38;5;28;01mraise\u001b[39;00m DeprecationError(msg)\n",
      "\u001b[1;31mDeprecationError\u001b[0m: extractText is deprecated and was removed in pypdf 3.0.0. Use extract_text instead."
     ]
    }
   ],
   "source": [
    "from optumExtractpdf import getTabDetails\n",
    "from pypdf import PdfReader\n",
    "\n",
    "reader = PdfReader(\"D:\\gitOcr\\pdfs\\optum.pdf\")\n",
    "data = getTabDetails(reader)"
   ]
  },
  {
   "cell_type": "code",
   "execution_count": null,
   "metadata": {},
   "outputs": [],
   "source": []
  }
 ],
 "metadata": {
  "kernelspec": {
   "display_name": "Python 3",
   "language": "python",
   "name": "python3"
  },
  "language_info": {
   "codemirror_mode": {
    "name": "ipython",
    "version": 3
   },
   "file_extension": ".py",
   "mimetype": "text/x-python",
   "name": "python",
   "nbconvert_exporter": "python",
   "pygments_lexer": "ipython3",
   "version": "3.11.0"
  }
 },
 "nbformat": 4,
 "nbformat_minor": 2
}
